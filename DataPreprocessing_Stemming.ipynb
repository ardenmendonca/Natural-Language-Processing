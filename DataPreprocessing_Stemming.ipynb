{
 "cells": [
  {
   "cell_type": "markdown",
   "id": "b7b4bb54",
   "metadata": {},
   "source": [
    "### Without Libraries "
   ]
  },
  {
   "cell_type": "code",
   "execution_count": null,
   "id": "3a54cca3",
   "metadata": {},
   "outputs": [],
   "source": [
    "'''\n",
    "We will implement stemming (a data preprocessing technique)\n",
    "\n",
    "1. Without Library \n",
    "2. With Library nltk,a popular Python package, provides many preprocessing tools for data in NLP. In our case, we will use PorterStemmer for stemming. \n",
    "'''"
   ]
  },
  {
   "cell_type": "code",
   "execution_count": 1,
   "id": "0d2f2423",
   "metadata": {},
   "outputs": [],
   "source": [
    "def porter_stemmer(word):\n",
    "    if len(word) <= 2:\n",
    "        return word\n",
    "\n",
    "    step2_suffixes = [\"ational\", \"tional\", \"enci\", \"anci\", \"izer\", \"bli\", \"alli\", \"entli\", \"eli\", \"ousli\", \"ization\", \"ation\", \"ator\", \"alism\", \"iveness\", \"fulness\", \"ousness\", \"aliti\", \"iviti\", \"biliti\", \"logi\"]\n",
    "    step3_suffixes = [\"icate\", \"ative\", \"alize\", \"iciti\", \"ical\", \"ful\", \"ness\"]\n",
    "\n",
    "    # Step 1a\n",
    "    if word.endswith(\"sses\"):\n",
    "        word = word[:-2]\n",
    "    elif word.endswith(\"ies\"):\n",
    "        word = word[:-2]\n",
    "    elif word.endswith(\"ss\"):\n",
    "        pass\n",
    "    elif word.endswith(\"s\"):\n",
    "        word = word[:-1]\n",
    "\n",
    "    # Step 1b\n",
    "    if word.endswith(\"eed\"):\n",
    "        if len(word[:-3]) > 0 and word[:-3][-1] in \"aeiou\":\n",
    "            word = word[:-1]\n",
    "    elif word.endswith((\"ed\", \"ing\")):\n",
    "        for suffix in [\"ed\", \"ing\"]:\n",
    "            if word.endswith(suffix):\n",
    "                if any(char in word[:-len(suffix)] for char in \"aeiou\"):\n",
    "                    word = word[:-len(suffix)]\n",
    "                    break\n",
    "\n",
    "    # Step 1c\n",
    "    if word.endswith(\"y\"):\n",
    "        if len(word[:-1]) > 0 and word[:-1][-1] in \"aeiou\":\n",
    "            word = word[:-1]\n",
    "\n",
    "    # Step 2\n",
    "    for suffix in step2_suffixes:\n",
    "        if word.endswith(suffix):\n",
    "            if len(word[:-len(suffix)]) > 0 and word[:-len(suffix)][-1] in \"aeiou\":\n",
    "                word = word[:-len(suffix)]\n",
    "            break\n",
    "\n",
    "    # Step 3\n",
    "    for suffix in step3_suffixes:\n",
    "        if word.endswith(suffix):\n",
    "            if len(word[:-len(suffix)]) > 0 and word[:-len(suffix)][-1] in \"aeiou\":\n",
    "                word = word[:-len(suffix)]\n",
    "            break\n",
    "\n",
    "    # Step 4\n",
    "    if word.endswith(\"sion\") or word.endswith(\"tion\"):\n",
    "        if len(word[:-3]) > 0 and word[:-3][-1] in \"aeiou\":\n",
    "            word = word[:-3]\n",
    "\n",
    "    # Step 5a\n",
    "    if word.endswith(\"e\"):\n",
    "        if len(word[:-1]) > 1 and word[:-1][-1] in \"aeiou\":\n",
    "            word = word[:-1]\n",
    "\n",
    "    # Step 5b\n",
    "    if word.endswith(\"ll\") and len(word[:-1]) > 1 and word[:-1][-1] in \"aeiou\":\n",
    "        word = word[:-1]\n",
    "\n",
    "    return word\n"
   ]
  },
  {
   "cell_type": "code",
   "execution_count": 16,
   "id": "0472c9ba",
   "metadata": {},
   "outputs": [
    {
     "name": "stdout",
     "output_type": "stream",
     "text": [
      "Jumping -> Jump\n",
      "Barking -> Bark\n",
      "Helping -> Help\n",
      "Learning -> Learn\n",
      "Stemming -> Stemm\n",
      "Beautiful -> Beauti\n",
      "Engineering -> Engineer\n"
     ]
    }
   ],
   "source": [
    "if __name__ == \"__main__\":\n",
    "    words_to_stem = [\"Jumping\", \"Barking\", \"Helping\", \"Learning\", \"Stemming\", \"Beautiful\", \"Engineering\"]\n",
    "    for word in words_to_stem:\n",
    "        print(f\"{word} -> {porter_stemmer(word)}\")"
   ]
  },
  {
   "cell_type": "markdown",
   "id": "b56f9cab",
   "metadata": {},
   "source": [
    "### With Libraries "
   ]
  },
  {
   "cell_type": "code",
   "execution_count": 7,
   "id": "5b3152e3",
   "metadata": {},
   "outputs": [],
   "source": [
    "import nltk\n",
    "from nltk.stem import PorterStemmer"
   ]
  },
  {
   "cell_type": "code",
   "execution_count": 17,
   "id": "f5284471",
   "metadata": {},
   "outputs": [
    {
     "name": "stdout",
     "output_type": "stream",
     "text": [
      "Jumping -> jump\n",
      "Barking -> bark\n",
      "Helping -> help\n",
      "Learning -> learn\n",
      "Stemming -> stem\n",
      "Beautiful -> beauti\n",
      "Engineering -> engin\n"
     ]
    }
   ],
   "source": [
    "def porter_stemmer_nltk(word):\n",
    "    porter_stemmer = PorterStemmer()\n",
    "    return porter_stemmer.stem(word)\n",
    "\n",
    "if __name__ == \"__main__\":\n",
    "    words_to_stem = [\"Jumping\", \"Barking\", \"Helping\", \"Learning\", \"Stemming\", \"Beautiful\", \"Engineering\"]\n",
    "    for word in words_to_stem:\n",
    "        print(f\"{word} -> {porter_stemmer_nltk(word)}\")"
   ]
  },
  {
   "cell_type": "code",
   "execution_count": null,
   "id": "8650f7f1",
   "metadata": {},
   "outputs": [],
   "source": []
  }
 ],
 "metadata": {
  "kernelspec": {
   "display_name": "Python 3 (ipykernel)",
   "language": "python",
   "name": "python3"
  },
  "language_info": {
   "codemirror_mode": {
    "name": "ipython",
    "version": 3
   },
   "file_extension": ".py",
   "mimetype": "text/x-python",
   "name": "python",
   "nbconvert_exporter": "python",
   "pygments_lexer": "ipython3",
   "version": "3.9.13"
  }
 },
 "nbformat": 4,
 "nbformat_minor": 5
}
