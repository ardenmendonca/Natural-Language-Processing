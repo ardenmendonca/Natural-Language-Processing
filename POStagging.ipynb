{
  "cells": [
    {
      "cell_type": "markdown",
      "metadata": {
        "id": "AB4MWJqtpd61"
      },
      "source": [
        "### Rule based English"
      ]
    },
    {
      "cell_type": "code",
      "execution_count": null,
      "metadata": {},
      "outputs": [],
      "source": [
        "'''\n",
        "Implement POS tagging for given English or Hindi sentence.\n",
        "\n",
        "'''"
      ]
    },
    {
      "cell_type": "code",
      "execution_count": 35,
      "metadata": {
        "colab": {
          "base_uri": "https://localhost:8080/"
        },
        "id": "eUCbLCQBjvY_",
        "outputId": "ac87eb09-7515-4bfb-c0f5-a6694e11b823"
      },
      "outputs": [
        {
          "name": "stdout",
          "output_type": "stream",
          "text": [
            "Please enter a small paragraph in English: Hello everyone I am now performing nlp experiment number 6. POS tagging is a foundational component of NLP, where each word in a sentence is assigned a specific grammatical label, such as noun, verb, adjective, or adverb, to help us better understand the syntactic structure and meaning of sentences.\n"
          ]
        }
      ],
      "source": [
        "paragraph = input(\"Please enter a small paragraph in English: \")"
      ]
    },
    {
      "cell_type": "code",
      "execution_count": 36,
      "metadata": {
        "colab": {
          "base_uri": "https://localhost:8080/"
        },
        "id": "B0i7Kou4kgr6",
        "outputId": "823c38b1-b40a-4075-b110-f9e4af627e06"
      },
      "outputs": [
        {
          "name": "stdout",
          "output_type": "stream",
          "text": [
            "You entered the following paragraph:\n",
            "Hello everyone I am now performing nlp experiment number 6. POS tagging is a foundational component of NLP, where each word in a sentence is assigned a specific grammatical label, such as noun, verb, adjective, or adverb, to help us better understand the syntactic structure and meaning of sentences.\n"
          ]
        }
      ],
      "source": [
        "print(\"You entered the following paragraph:\")\n",
        "print(paragraph)"
      ]
    },
    {
      "cell_type": "code",
      "execution_count": 37,
      "metadata": {
        "id": "Pr2tmsPM6oSk"
      },
      "outputs": [],
      "source": [
        "import re\n",
        "cleaned_text = re.sub(r'[^a-zA-Z0-9\\s]', '', paragraph)\n",
        "cleaned_text = re.sub(r'\\s+', ' ', cleaned_text).strip()"
      ]
    },
    {
      "cell_type": "code",
      "execution_count": 38,
      "metadata": {
        "colab": {
          "base_uri": "https://localhost:8080/"
        },
        "id": "uL5z62Av65Sl",
        "outputId": "08d85af8-fcd4-4bc6-8ae8-94a58fa85646"
      },
      "outputs": [
        {
          "name": "stdout",
          "output_type": "stream",
          "text": [
            "Hello everyone I am now performing nlp experiment number 6 POS tagging is a foundational component of NLP where each word in a sentence is assigned a specific grammatical label such as noun verb adjective or adverb to help us better understand the syntactic structure and meaning of sentences\n"
          ]
        }
      ],
      "source": [
        "print(cleaned_text)"
      ]
    },
    {
      "cell_type": "code",
      "execution_count": 39,
      "metadata": {
        "id": "5s3-8R4Tkueu"
      },
      "outputs": [],
      "source": [
        "import nltk\n",
        "from nltk import word_tokenize, pos_tag"
      ]
    },
    {
      "cell_type": "code",
      "execution_count": 40,
      "metadata": {
        "colab": {
          "base_uri": "https://localhost:8080/"
        },
        "id": "Gg7LNKowlC1Y",
        "outputId": "6414cbe3-4e28-4ea5-9a6f-48bdad19ff73"
      },
      "outputs": [
        {
          "name": "stderr",
          "output_type": "stream",
          "text": [
            "[nltk_data] Downloading package punkt to /root/nltk_data...\n",
            "[nltk_data]   Package punkt is already up-to-date!\n"
          ]
        },
        {
          "data": {
            "text/plain": [
              "True"
            ]
          },
          "execution_count": 40,
          "metadata": {},
          "output_type": "execute_result"
        }
      ],
      "source": [
        "nltk.download('punkt')\n"
      ]
    },
    {
      "cell_type": "code",
      "execution_count": 41,
      "metadata": {
        "id": "k7c9s8pblEOX"
      },
      "outputs": [],
      "source": [
        "words = word_tokenize(cleaned_text)"
      ]
    },
    {
      "cell_type": "code",
      "execution_count": 42,
      "metadata": {
        "id": "TohUxeMMoICl"
      },
      "outputs": [],
      "source": [
        "custom_rules = [\n",
        "    (r'.*ing$', 'VBG'),\n",
        "    (r'.*ed$', 'VBD'),\n",
        "    (r'.*es$', 'VBZ'),\n",
        "    (r'.*ould$', 'MD'),\n",
        "    (r'.*\\'s$', 'NN$'),\n",
        "    (r'.*s$', 'NNS'),\n",
        "    (r'^-?[0-9]+(.[0-9]+)?$', 'CD'),\n",
        "    (r'.*', 'NN')\n",
        "]"
      ]
    },
    {
      "cell_type": "code",
      "execution_count": 43,
      "metadata": {
        "id": "5e0bgWPvoVkp"
      },
      "outputs": [],
      "source": [
        "regex_tagger = nltk.RegexpTagger(custom_rules)"
      ]
    },
    {
      "cell_type": "code",
      "execution_count": 44,
      "metadata": {
        "id": "WaNqgR1-ocZl"
      },
      "outputs": [],
      "source": [
        "pos_tags = regex_tagger.tag(words)"
      ]
    },
    {
      "cell_type": "code",
      "execution_count": 45,
      "metadata": {
        "colab": {
          "base_uri": "https://localhost:8080/"
        },
        "id": "rktJ0EeAoehT",
        "outputId": "c1402ad7-66c5-4d1e-f710-17c4ce7c059c"
      },
      "outputs": [
        {
          "name": "stdout",
          "output_type": "stream",
          "text": [
            "Rule Based POS tags for the paragraph:\n",
            "[('Hello', 'NN'), ('everyone', 'NN'), ('I', 'NN'), ('am', 'NN'), ('now', 'NN'), ('performing', 'VBG'), ('nlp', 'NN'), ('experiment', 'NN'), ('number', 'NN'), ('6', 'CD'), ('POS', 'NN'), ('tagging', 'VBG'), ('is', 'NNS'), ('a', 'NN'), ('foundational', 'NN'), ('component', 'NN'), ('of', 'NN'), ('NLP', 'NN'), ('where', 'NN'), ('each', 'NN'), ('word', 'NN'), ('in', 'NN'), ('a', 'NN'), ('sentence', 'NN'), ('is', 'NNS'), ('assigned', 'VBD'), ('a', 'NN'), ('specific', 'NN'), ('grammatical', 'NN'), ('label', 'NN'), ('such', 'NN'), ('as', 'NNS'), ('noun', 'NN'), ('verb', 'NN'), ('adjective', 'NN'), ('or', 'NN'), ('adverb', 'NN'), ('to', 'NN'), ('help', 'NN'), ('us', 'NNS'), ('better', 'NN'), ('understand', 'NN'), ('the', 'NN'), ('syntactic', 'NN'), ('structure', 'NN'), ('and', 'NN'), ('meaning', 'VBG'), ('of', 'NN'), ('sentences', 'VBZ')]\n"
          ]
        }
      ],
      "source": [
        "print(\"Rule Based POS tags for the paragraph:\")\n",
        "print(pos_tags)"
      ]
    },
    {
      "cell_type": "markdown",
      "metadata": {
        "id": "PaJyYGhho2fG"
      },
      "source": [
        "### Statistical based English"
      ]
    },
    {
      "cell_type": "code",
      "execution_count": 46,
      "metadata": {
        "colab": {
          "base_uri": "https://localhost:8080/"
        },
        "id": "9PBaQWSso0g3",
        "outputId": "50fe129f-80c7-4966-cd53-53c8e3018cc1"
      },
      "outputs": [
        {
          "name": "stderr",
          "output_type": "stream",
          "text": [
            "[nltk_data] Downloading package averaged_perceptron_tagger to\n",
            "[nltk_data]     /root/nltk_data...\n",
            "[nltk_data]   Package averaged_perceptron_tagger is already up-to-\n",
            "[nltk_data]       date!\n"
          ]
        },
        {
          "data": {
            "text/plain": [
              "True"
            ]
          },
          "execution_count": 46,
          "metadata": {},
          "output_type": "execute_result"
        }
      ],
      "source": [
        "nltk.download('averaged_perceptron_tagger')"
      ]
    },
    {
      "cell_type": "code",
      "execution_count": 47,
      "metadata": {
        "id": "BMLwll2ylF73"
      },
      "outputs": [],
      "source": [
        "pos_tags = pos_tag(words)"
      ]
    },
    {
      "cell_type": "code",
      "execution_count": 48,
      "metadata": {
        "colab": {
          "base_uri": "https://localhost:8080/"
        },
        "id": "1kf2KFf_lH9P",
        "outputId": "98a77fd6-8314-4fc7-818f-0841d8f311dd"
      },
      "outputs": [
        {
          "name": "stdout",
          "output_type": "stream",
          "text": [
            "POS tags for the paragraph:\n",
            "Hello: NNP\n",
            "everyone: NN\n",
            "I: PRP\n",
            "am: VBP\n",
            "now: RB\n",
            "performing: VBG\n",
            "nlp: JJ\n",
            "experiment: JJ\n",
            "number: NN\n",
            "6: CD\n",
            "POS: NNP\n",
            "tagging: NN\n",
            "is: VBZ\n",
            "a: DT\n",
            "foundational: JJ\n",
            "component: NN\n",
            "of: IN\n",
            "NLP: NNP\n",
            "where: WRB\n",
            "each: DT\n",
            "word: NN\n",
            "in: IN\n",
            "a: DT\n",
            "sentence: NN\n",
            "is: VBZ\n",
            "assigned: VBN\n",
            "a: DT\n",
            "specific: JJ\n",
            "grammatical: JJ\n",
            "label: NN\n",
            "such: JJ\n",
            "as: IN\n",
            "noun: JJ\n",
            "verb: NN\n",
            "adjective: NN\n",
            "or: CC\n",
            "adverb: NN\n",
            "to: TO\n",
            "help: VB\n",
            "us: PRP\n",
            "better: JJR\n",
            "understand: VBP\n",
            "the: DT\n",
            "syntactic: JJ\n",
            "structure: NN\n",
            "and: CC\n",
            "meaning: NN\n",
            "of: IN\n",
            "sentences: NNS\n"
          ]
        }
      ],
      "source": [
        "print(\"POS tags for the paragraph:\")\n",
        "for word, pos_tag in pos_tags:\n",
        "    print(f\"{word}: {pos_tag}\")\n",
        "\n",
        "\n",
        "\n",
        "\n",
        "\n"
      ]
    },
    {
      "cell_type": "code",
      "execution_count": 50,
      "metadata": {
        "id": "58kDrvTKlK9v"
      },
      "outputs": [],
      "source": [
        "noun_count=sum([1 for word,pos_tag in pos_tags if pos_tag==\"NN\" or pos_tag==\"NNP\" or pos_tag==\"NNS\"])"
      ]
    },
    {
      "cell_type": "code",
      "execution_count": 54,
      "metadata": {
        "id": "yJ8fVbs_l58H"
      },
      "outputs": [],
      "source": [
        "verb_count=sum([1 for word,pos_tag in pos_tags if pos_tag==\"VB\" or pos_tag=='VBP'or pos_tag=='VBG' or pos_tag==\"VBN\" or pos_tag==\"VBZ\"])"
      ]
    },
    {
      "cell_type": "code",
      "execution_count": 55,
      "metadata": {
        "colab": {
          "base_uri": "https://localhost:8080/"
        },
        "id": "nBu6Lblnl6eH",
        "outputId": "8134fd3d-9fab-4b08-bc04-da85c5c0a194"
      },
      "outputs": [
        {
          "name": "stdout",
          "output_type": "stream",
          "text": [
            "Number of nouns : 16\n",
            "Number of verbs : 7\n"
          ]
        }
      ],
      "source": [
        "print(f\"Number of nouns : {noun_count}\")\n",
        "print(f\"Number of verbs : {verb_count}\")"
      ]
    },
    {
      "cell_type": "markdown",
      "metadata": {
        "id": "Xd6K6z26qPxR"
      },
      "source": [
        "### Hindi"
      ]
    },
    {
      "cell_type": "code",
      "execution_count": 56,
      "metadata": {
        "colab": {
          "base_uri": "https://localhost:8080/"
        },
        "id": "7hrvPQP0qTr8",
        "outputId": "75bedead-1465-42db-f872-8e3a63b41435"
      },
      "outputs": [
        {
          "name": "stderr",
          "output_type": "stream",
          "text": [
            "[nltk_data] Downloading package indian to /root/nltk_data...\n",
            "[nltk_data]   Unzipping corpora/indian.zip.\n"
          ]
        },
        {
          "data": {
            "text/plain": [
              "True"
            ]
          },
          "execution_count": 56,
          "metadata": {},
          "output_type": "execute_result"
        }
      ],
      "source": [
        "nltk.download('indian')"
      ]
    },
    {
      "cell_type": "code",
      "execution_count": 58,
      "metadata": {
        "colab": {
          "base_uri": "https://localhost:8080/"
        },
        "id": "SOCnJfaTqVTf",
        "outputId": "a7dbeb7a-564a-484a-f1f2-fc12f428a855"
      },
      "outputs": [
        {
          "name": "stdout",
          "output_type": "stream",
          "text": [
            "Please enter a small paragraph in Hindi:सभी को नमस्कार मैं अब एनएलपी प्रयोग संख्या 6 कर रहा हूं पीओएस टैगिंग एनएलपी का एक मूलभूत घटक है जहां एक वाक्य में प्रत्येक शब्द को एक विशिष्ट व्याकरणिक लेबल दिया जाता है जैसे कि संज्ञा क्रिया विशेषण या क्रिया विशेषण हमें वाक्यों की वाक्य संरचना और अर्थ को बेहतर ढंग से समझने में मदद करता है\n"
          ]
        }
      ],
      "source": [
        "hindi_sentence = input(\"Please enter a small paragraph in Hindi:\")"
      ]
    },
    {
      "cell_type": "code",
      "execution_count": 59,
      "metadata": {
        "id": "k9xMo_m1qi7U"
      },
      "outputs": [],
      "source": [
        "tokens = nltk.word_tokenize(hindi_sentence)"
      ]
    },
    {
      "cell_type": "code",
      "execution_count": 60,
      "metadata": {
        "colab": {
          "base_uri": "https://localhost:8080/"
        },
        "id": "JcjW7pWsqmpt",
        "outputId": "9bdebb71-f6bb-424f-82ac-a486feeed64f"
      },
      "outputs": [
        {
          "data": {
            "text/plain": [
              "['सभी',\n",
              " 'को',\n",
              " 'नमस्कार',\n",
              " 'मैं',\n",
              " 'अब',\n",
              " 'एनएलपी',\n",
              " 'प्रयोग',\n",
              " 'संख्या',\n",
              " '6',\n",
              " 'कर',\n",
              " 'रहा',\n",
              " 'हूं',\n",
              " 'पीओएस',\n",
              " 'टैगिंग',\n",
              " 'एनएलपी',\n",
              " 'का',\n",
              " 'एक',\n",
              " 'मूलभूत',\n",
              " 'घटक',\n",
              " 'है',\n",
              " 'जहां',\n",
              " 'एक',\n",
              " 'वाक्य',\n",
              " 'में',\n",
              " 'प्रत्येक',\n",
              " 'शब्द',\n",
              " 'को',\n",
              " 'एक',\n",
              " 'विशिष्ट',\n",
              " 'व्याकरणिक',\n",
              " 'लेबल',\n",
              " 'दिया',\n",
              " 'जाता',\n",
              " 'है',\n",
              " 'जैसे',\n",
              " 'कि',\n",
              " 'संज्ञा',\n",
              " 'क्रिया',\n",
              " 'विशेषण',\n",
              " 'या',\n",
              " 'क्रिया',\n",
              " 'विशेषण',\n",
              " 'हमें',\n",
              " 'वाक्यों',\n",
              " 'की',\n",
              " 'वाक्य',\n",
              " 'संरचना',\n",
              " 'और',\n",
              " 'अर्थ',\n",
              " 'को',\n",
              " 'बेहतर',\n",
              " 'ढंग',\n",
              " 'से',\n",
              " 'समझने',\n",
              " 'में',\n",
              " 'मदद',\n",
              " 'करता',\n",
              " 'है']"
            ]
          },
          "execution_count": 60,
          "metadata": {},
          "output_type": "execute_result"
        }
      ],
      "source": [
        "tokens"
      ]
    },
    {
      "cell_type": "code",
      "execution_count": 61,
      "metadata": {
        "id": "eq1p8ktaqo7c"
      },
      "outputs": [],
      "source": [
        "from nltk.tag import tnt\n",
        "from nltk.corpus import indian\n",
        "train_data = indian.tagged_sents('hindi.pos')\n",
        "tnt_pos_tagger = tnt.TnT()\n",
        "tnt_pos_tagger.train(train_data)"
      ]
    },
    {
      "cell_type": "code",
      "execution_count": 62,
      "metadata": {
        "colab": {
          "base_uri": "https://localhost:8080/"
        },
        "id": "rVf7RjtTq1D2",
        "outputId": "c85169ca-4107-4b4d-97e1-92b43c11fb22"
      },
      "outputs": [
        {
          "name": "stdout",
          "output_type": "stream",
          "text": [
            "[('सभी', 'QF'), ('को', 'PREP'), ('नमस्कार', 'Unk'), ('मैं', 'PRP'), ('अब', 'RB'), ('एनएलपी', 'Unk'), ('प्रयोग', 'NVB'), ('संख्या', 'NN'), ('6', 'Unk'), ('कर', 'VFM'), ('रहा', 'VAUX'), ('हूं', 'VAUX'), ('पीओएस', 'Unk'), ('टैगिंग', 'Unk'), ('एनएलपी', 'Unk'), ('का', 'PREP'), ('एक', 'QFNUM'), ('मूलभूत', 'Unk'), ('घटक', 'Unk'), ('है', 'VAUX'), ('जहां', 'NLOC'), ('एक', 'QFNUM'), ('वाक्य', 'Unk'), ('में', 'PREP'), ('प्रत्येक', 'Unk'), ('शब्द', 'Unk'), ('को', 'PREP'), ('एक', 'QFNUM'), ('विशिष्ट', 'Unk'), ('व्याकरणिक', 'Unk'), ('लेबल', 'Unk'), ('दिया', 'VAUX'), ('जाता', 'VAUX'), ('है', 'VAUX'), ('जैसे', 'PRP'), ('कि', 'CC'), ('संज्ञा', 'NN'), ('क्रिया', 'Unk'), ('विशेषण', 'Unk'), ('या', 'CC'), ('क्रिया', 'Unk'), ('विशेषण', 'Unk'), ('हमें', 'PRP'), ('वाक्यों', 'Unk'), ('की', 'PREP'), ('वाक्य', 'Unk'), ('संरचना', 'Unk'), ('और', 'CC'), ('अर्थ', 'Unk'), ('को', 'PREP'), ('बेहतर', 'Unk'), ('ढंग', 'Unk'), ('से', 'PREP'), ('समझने', 'Unk'), ('में', 'PREP'), ('मदद', 'NVB'), ('करता', 'VFM'), ('है', 'VAUX')]\n"
          ]
        }
      ],
      "source": [
        "tagged_words = (tnt_pos_tagger.tag(nltk.word_tokenize(hindi_sentence)))\n",
        "print(tagged_words)"
      ]
    },
    {
      "cell_type": "code",
      "execution_count": null,
      "metadata": {
        "id": "40fp3WTj98ts"
      },
      "outputs": [],
      "source": []
    }
  ],
  "metadata": {
    "colab": {
      "provenance": []
    },
    "kernelspec": {
      "display_name": "Python 3",
      "name": "python3"
    },
    "language_info": {
      "name": "python"
    }
  },
  "nbformat": 4,
  "nbformat_minor": 0
}
