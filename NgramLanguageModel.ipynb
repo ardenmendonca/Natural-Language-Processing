{
  "cells": [
    {
      "cell_type": "code",
      "execution_count": null,
      "metadata": {},
      "outputs": [],
      "source": [
        "'''\n",
        "N gram language model\n",
        "\n",
        "Implemenation:\n",
        "\n",
        "1.Take any text data (one sentence) as input. Generate unigram, bigram\n",
        "and Trigram (without nltk)\n",
        "2. Do the above process with nltk and built in ngram model\n",
        "3. Consider the following corpus of three sentences\n",
        "<s> there is a big garden </s>\n",
        "<s> children play in a garden </s>\n",
        "<s> they play inside beautiful garden </s>\n",
        "\n",
        "Create a bigram table for a given data\n",
        "Using this lookup table calculate the probability of sentences such as\n",
        "<s>they play in a big garden</s>\n",
        "Calculate perplexity of\n",
        "<s> they play in a big garden </s>\n",
        "\n",
        "\n",
        "We will perform the above operations with and without nltk library\n",
        "\n",
        "'''"
      ]
    },
    {
      "cell_type": "markdown",
      "metadata": {
        "id": "J4ZuN5B1rio3"
      },
      "source": [
        "### Without NLtk"
      ]
    },
    {
      "cell_type": "code",
      "execution_count": 79,
      "metadata": {
        "id": "0t4oXvQtohCb"
      },
      "outputs": [],
      "source": [
        "def generate_ngrams(words_list, n):\n",
        "    ngrams_list = []\n",
        "\n",
        "    for num in range(0, len(words_list)):\n",
        "        ngram = ' '.join(words_list[num:num + n])\n",
        "        ngrams_list.append(ngram)\n",
        "\n",
        "    return ngrams_list"
      ]
    },
    {
      "cell_type": "code",
      "execution_count": 80,
      "metadata": {
        "colab": {
          "base_uri": "https://localhost:8080/",
          "height": 0
        },
        "id": "nMQubNzOokZy",
        "outputId": "2c3b8b7e-7132-4053-d554-30ed792293fe"
      },
      "outputs": [
        {
          "name": "stdout",
          "output_type": "stream",
          "text": [
            "Unigram:  ['The', 'quick', 'brown', 'fox', 'jumps', 'over', 'the', 'lazy', 'dog']\n",
            "bigram:  ['The quick', 'quick brown', 'brown fox', 'fox jumps', 'jumps over', 'over the', 'the lazy', 'lazy dog', 'dog']\n",
            "trigram:  ['The quick brown', 'quick brown fox', 'brown fox jumps', 'fox jumps over', 'jumps over the', 'over the lazy', 'the lazy dog', 'lazy dog', 'dog']\n"
          ]
        }
      ],
      "source": [
        "text = 'The quick brown fox jumps over the lazy dog'\n",
        "words_list = text.split()\n",
        "unigrams = generate_ngrams(words_list, 1)\n",
        "bigrams = generate_ngrams(words_list, 2)\n",
        "trigrams = generate_ngrams(words_list, 3)\n",
        "\n",
        "\n",
        "print(\"Unigram: \",unigrams)\n",
        "print(\"bigram: \",bigrams)\n",
        "print(\"trigram: \",trigrams)\n"
      ]
    },
    {
      "cell_type": "markdown",
      "metadata": {
        "id": "vQn9PhE1rolu"
      },
      "source": [
        "### With NLtk"
      ]
    },
    {
      "cell_type": "code",
      "execution_count": 81,
      "metadata": {
        "colab": {
          "base_uri": "https://localhost:8080/",
          "height": 0
        },
        "id": "HKHbAJfhrqax",
        "outputId": "21dedccf-7380-43b1-a1c0-b1d2cb6212aa"
      },
      "outputs": [
        {
          "name": "stderr",
          "output_type": "stream",
          "text": [
            "[nltk_data] Downloading package punkt to /root/nltk_data...\n",
            "[nltk_data]   Package punkt is already up-to-date!\n"
          ]
        },
        {
          "data": {
            "text/plain": [
              "True"
            ]
          },
          "execution_count": 81,
          "metadata": {},
          "output_type": "execute_result"
        }
      ],
      "source": [
        "import nltk\n",
        "from nltk.util import ngrams\n",
        "nltk.download('punkt')"
      ]
    },
    {
      "cell_type": "code",
      "execution_count": 82,
      "metadata": {
        "colab": {
          "base_uri": "https://localhost:8080/",
          "height": 0
        },
        "id": "-nm1B33irtqJ",
        "outputId": "353a1e30-b787-46a7-b223-cd2ed5564c04"
      },
      "outputs": [
        {
          "name": "stdout",
          "output_type": "stream",
          "text": [
            "['The', 'quick', 'brown', 'fox', 'jumps', 'over', 'the', 'lazy', 'dog']\n"
          ]
        }
      ],
      "source": [
        "sentence = \"The quick brown fox jumps over the lazy dog\"\n",
        "words = nltk.word_tokenize(sentence)\n",
        "print(words)"
      ]
    },
    {
      "cell_type": "code",
      "execution_count": 83,
      "metadata": {
        "colab": {
          "base_uri": "https://localhost:8080/",
          "height": 0
        },
        "id": "UWyHTYvWr0mB",
        "outputId": "7c78d95c-c6a4-4747-af8c-0fd346e3b65d"
      },
      "outputs": [
        {
          "name": "stdout",
          "output_type": "stream",
          "text": [
            "Unigrams: [('The',), ('quick',), ('brown',), ('fox',), ('jumps',), ('over',), ('the',), ('lazy',), ('dog',)]\n",
            "Bigrams: [('The', 'quick'), ('quick', 'brown'), ('brown', 'fox'), ('fox', 'jumps'), ('jumps', 'over'), ('over', 'the'), ('the', 'lazy'), ('lazy', 'dog')]\n",
            "Trigrams: [('The', 'quick', 'brown'), ('quick', 'brown', 'fox'), ('brown', 'fox', 'jumps'), ('fox', 'jumps', 'over'), ('jumps', 'over', 'the'), ('over', 'the', 'lazy'), ('the', 'lazy', 'dog')]\n"
          ]
        }
      ],
      "source": [
        "unigrams = list(ngrams(words, 1))\n",
        "print(\"Unigrams:\", unigrams)\n",
        "bigrams = list(ngrams(words, 2))\n",
        "print(\"Bigrams:\", bigrams)\n",
        "trigrams = list(ngrams(words, 3))\n",
        "print(\"Trigrams:\", trigrams)"
      ]
    },
    {
      "cell_type": "code",
      "execution_count": 84,
      "metadata": {
        "id": "bUTBXAgtxKEJ"
      },
      "outputs": [],
      "source": [
        "from collections import defaultdict\n",
        "import re\n",
        "import numpy as np\n",
        "import pandas as pd"
      ]
    },
    {
      "cell_type": "code",
      "execution_count": 85,
      "metadata": {
        "id": "4Ome4PoV-DT4"
      },
      "outputs": [],
      "source": [
        "corpus=\"there is a big garden. children play in a garden. they play inside beautiful garden\""
      ]
    },
    {
      "cell_type": "code",
      "execution_count": 86,
      "metadata": {
        "id": "wQoUUYC9-pl8"
      },
      "outputs": [],
      "source": [
        "corpus=corpus.replace(\".\",\"\")"
      ]
    },
    {
      "cell_type": "code",
      "execution_count": 87,
      "metadata": {
        "id": "BO3_J0Sh-Vfy"
      },
      "outputs": [],
      "source": [
        "words = nltk.word_tokenize(corpus)"
      ]
    },
    {
      "cell_type": "code",
      "execution_count": 88,
      "metadata": {
        "colab": {
          "base_uri": "https://localhost:8080/",
          "height": 0
        },
        "id": "_dpaCWOk-VjM",
        "outputId": "ee10b2f5-14c1-46ee-f6ba-a115659dcf0b"
      },
      "outputs": [
        {
          "name": "stdout",
          "output_type": "stream",
          "text": [
            "['there', 'is', 'a', 'big', 'garden', 'children', 'play', 'in', 'a', 'garden', 'they', 'play', 'inside', 'beautiful', 'garden']\n"
          ]
        }
      ],
      "source": [
        "print(words)"
      ]
    },
    {
      "cell_type": "code",
      "execution_count": 89,
      "metadata": {
        "colab": {
          "base_uri": "https://localhost:8080/",
          "height": 0
        },
        "id": "9AvtLFFn-1Sr",
        "outputId": "2cbb0042-e0fc-432d-8ccb-569ea98f693f"
      },
      "outputs": [
        {
          "name": "stdout",
          "output_type": "stream",
          "text": [
            "[('there', 'is'), ('is', 'a'), ('a', 'big'), ('big', 'garden'), ('garden', 'children'), ('children', 'play'), ('play', 'in'), ('in', 'a'), ('a', 'garden'), ('garden', 'they'), ('they', 'play'), ('play', 'inside'), ('inside', 'beautiful'), ('beautiful', 'garden')]\n"
          ]
        }
      ],
      "source": [
        "bigrams = list(ngrams(words, 2))\n",
        "print(bigrams)"
      ]
    },
    {
      "cell_type": "code",
      "execution_count": 90,
      "metadata": {
        "colab": {
          "base_uri": "https://localhost:8080/",
          "height": 394
        },
        "id": "Wnq1JtuV8px2",
        "outputId": "ae2c5d0e-548f-45d4-87c3-bb8de6551bb0"
      },
      "outputs": [
        {
          "data": {
            "text/html": [
              "\n",
              "  <div id=\"df-9b1353d9-b054-40e7-9967-f737c9fc4a39\" class=\"colab-df-container\">\n",
              "    <div>\n",
              "<style scoped>\n",
              "    .dataframe tbody tr th:only-of-type {\n",
              "        vertical-align: middle;\n",
              "    }\n",
              "\n",
              "    .dataframe tbody tr th {\n",
              "        vertical-align: top;\n",
              "    }\n",
              "\n",
              "    .dataframe thead th {\n",
              "        text-align: right;\n",
              "    }\n",
              "</style>\n",
              "<table border=\"1\" class=\"dataframe\">\n",
              "  <thead>\n",
              "    <tr style=\"text-align: right;\">\n",
              "      <th></th>\n",
              "      <th>a</th>\n",
              "      <th>beautiful</th>\n",
              "      <th>big</th>\n",
              "      <th>children</th>\n",
              "      <th>garden</th>\n",
              "      <th>in</th>\n",
              "      <th>inside</th>\n",
              "      <th>is</th>\n",
              "      <th>play</th>\n",
              "      <th>they</th>\n",
              "    </tr>\n",
              "  </thead>\n",
              "  <tbody>\n",
              "    <tr>\n",
              "      <th>a</th>\n",
              "      <td>0</td>\n",
              "      <td>0</td>\n",
              "      <td>1</td>\n",
              "      <td>0</td>\n",
              "      <td>1</td>\n",
              "      <td>0</td>\n",
              "      <td>0</td>\n",
              "      <td>0</td>\n",
              "      <td>0</td>\n",
              "      <td>0</td>\n",
              "    </tr>\n",
              "    <tr>\n",
              "      <th>beautiful</th>\n",
              "      <td>0</td>\n",
              "      <td>0</td>\n",
              "      <td>0</td>\n",
              "      <td>0</td>\n",
              "      <td>1</td>\n",
              "      <td>0</td>\n",
              "      <td>0</td>\n",
              "      <td>0</td>\n",
              "      <td>0</td>\n",
              "      <td>0</td>\n",
              "    </tr>\n",
              "    <tr>\n",
              "      <th>big</th>\n",
              "      <td>0</td>\n",
              "      <td>0</td>\n",
              "      <td>0</td>\n",
              "      <td>0</td>\n",
              "      <td>1</td>\n",
              "      <td>0</td>\n",
              "      <td>0</td>\n",
              "      <td>0</td>\n",
              "      <td>0</td>\n",
              "      <td>0</td>\n",
              "    </tr>\n",
              "    <tr>\n",
              "      <th>children</th>\n",
              "      <td>0</td>\n",
              "      <td>0</td>\n",
              "      <td>0</td>\n",
              "      <td>0</td>\n",
              "      <td>0</td>\n",
              "      <td>0</td>\n",
              "      <td>0</td>\n",
              "      <td>0</td>\n",
              "      <td>1</td>\n",
              "      <td>0</td>\n",
              "    </tr>\n",
              "    <tr>\n",
              "      <th>garden</th>\n",
              "      <td>0</td>\n",
              "      <td>0</td>\n",
              "      <td>0</td>\n",
              "      <td>1</td>\n",
              "      <td>0</td>\n",
              "      <td>0</td>\n",
              "      <td>0</td>\n",
              "      <td>0</td>\n",
              "      <td>0</td>\n",
              "      <td>1</td>\n",
              "    </tr>\n",
              "    <tr>\n",
              "      <th>in</th>\n",
              "      <td>1</td>\n",
              "      <td>0</td>\n",
              "      <td>0</td>\n",
              "      <td>0</td>\n",
              "      <td>0</td>\n",
              "      <td>0</td>\n",
              "      <td>0</td>\n",
              "      <td>0</td>\n",
              "      <td>0</td>\n",
              "      <td>0</td>\n",
              "    </tr>\n",
              "    <tr>\n",
              "      <th>inside</th>\n",
              "      <td>0</td>\n",
              "      <td>1</td>\n",
              "      <td>0</td>\n",
              "      <td>0</td>\n",
              "      <td>0</td>\n",
              "      <td>0</td>\n",
              "      <td>0</td>\n",
              "      <td>0</td>\n",
              "      <td>0</td>\n",
              "      <td>0</td>\n",
              "    </tr>\n",
              "    <tr>\n",
              "      <th>is</th>\n",
              "      <td>1</td>\n",
              "      <td>0</td>\n",
              "      <td>0</td>\n",
              "      <td>0</td>\n",
              "      <td>0</td>\n",
              "      <td>0</td>\n",
              "      <td>0</td>\n",
              "      <td>0</td>\n",
              "      <td>0</td>\n",
              "      <td>0</td>\n",
              "    </tr>\n",
              "    <tr>\n",
              "      <th>play</th>\n",
              "      <td>0</td>\n",
              "      <td>0</td>\n",
              "      <td>0</td>\n",
              "      <td>0</td>\n",
              "      <td>0</td>\n",
              "      <td>1</td>\n",
              "      <td>1</td>\n",
              "      <td>0</td>\n",
              "      <td>0</td>\n",
              "      <td>0</td>\n",
              "    </tr>\n",
              "    <tr>\n",
              "      <th>there</th>\n",
              "      <td>0</td>\n",
              "      <td>0</td>\n",
              "      <td>0</td>\n",
              "      <td>0</td>\n",
              "      <td>0</td>\n",
              "      <td>0</td>\n",
              "      <td>0</td>\n",
              "      <td>1</td>\n",
              "      <td>0</td>\n",
              "      <td>0</td>\n",
              "    </tr>\n",
              "    <tr>\n",
              "      <th>they</th>\n",
              "      <td>0</td>\n",
              "      <td>0</td>\n",
              "      <td>0</td>\n",
              "      <td>0</td>\n",
              "      <td>0</td>\n",
              "      <td>0</td>\n",
              "      <td>0</td>\n",
              "      <td>0</td>\n",
              "      <td>1</td>\n",
              "      <td>0</td>\n",
              "    </tr>\n",
              "  </tbody>\n",
              "</table>\n",
              "</div>\n",
              "    <div class=\"colab-df-buttons\">\n",
              "\n",
              "  <div class=\"colab-df-container\">\n",
              "    <button class=\"colab-df-convert\" onclick=\"convertToInteractive('df-9b1353d9-b054-40e7-9967-f737c9fc4a39')\"\n",
              "            title=\"Convert this dataframe to an interactive table.\"\n",
              "            style=\"display:none;\">\n",
              "\n",
              "  <svg xmlns=\"http://www.w3.org/2000/svg\" height=\"24px\" viewBox=\"0 -960 960 960\">\n",
              "    <path d=\"M120-120v-720h720v720H120Zm60-500h600v-160H180v160Zm220 220h160v-160H400v160Zm0 220h160v-160H400v160ZM180-400h160v-160H180v160Zm440 0h160v-160H620v160ZM180-180h160v-160H180v160Zm440 0h160v-160H620v160Z\"/>\n",
              "  </svg>\n",
              "    </button>\n",
              "\n",
              "  <style>\n",
              "    .colab-df-container {\n",
              "      display:flex;\n",
              "      gap: 12px;\n",
              "    }\n",
              "\n",
              "    .colab-df-convert {\n",
              "      background-color: #E8F0FE;\n",
              "      border: none;\n",
              "      border-radius: 50%;\n",
              "      cursor: pointer;\n",
              "      display: none;\n",
              "      fill: #1967D2;\n",
              "      height: 32px;\n",
              "      padding: 0 0 0 0;\n",
              "      width: 32px;\n",
              "    }\n",
              "\n",
              "    .colab-df-convert:hover {\n",
              "      background-color: #E2EBFA;\n",
              "      box-shadow: 0px 1px 2px rgba(60, 64, 67, 0.3), 0px 1px 3px 1px rgba(60, 64, 67, 0.15);\n",
              "      fill: #174EA6;\n",
              "    }\n",
              "\n",
              "    .colab-df-buttons div {\n",
              "      margin-bottom: 4px;\n",
              "    }\n",
              "\n",
              "    [theme=dark] .colab-df-convert {\n",
              "      background-color: #3B4455;\n",
              "      fill: #D2E3FC;\n",
              "    }\n",
              "\n",
              "    [theme=dark] .colab-df-convert:hover {\n",
              "      background-color: #434B5C;\n",
              "      box-shadow: 0px 1px 3px 1px rgba(0, 0, 0, 0.15);\n",
              "      filter: drop-shadow(0px 1px 2px rgba(0, 0, 0, 0.3));\n",
              "      fill: #FFFFFF;\n",
              "    }\n",
              "  </style>\n",
              "\n",
              "    <script>\n",
              "      const buttonEl =\n",
              "        document.querySelector('#df-9b1353d9-b054-40e7-9967-f737c9fc4a39 button.colab-df-convert');\n",
              "      buttonEl.style.display =\n",
              "        google.colab.kernel.accessAllowed ? 'block' : 'none';\n",
              "\n",
              "      async function convertToInteractive(key) {\n",
              "        const element = document.querySelector('#df-9b1353d9-b054-40e7-9967-f737c9fc4a39');\n",
              "        const dataTable =\n",
              "          await google.colab.kernel.invokeFunction('convertToInteractive',\n",
              "                                                    [key], {});\n",
              "        if (!dataTable) return;\n",
              "\n",
              "        const docLinkHtml = 'Like what you see? Visit the ' +\n",
              "          '<a target=\"_blank\" href=https://colab.research.google.com/notebooks/data_table.ipynb>data table notebook</a>'\n",
              "          + ' to learn more about interactive tables.';\n",
              "        element.innerHTML = '';\n",
              "        dataTable['output_type'] = 'display_data';\n",
              "        await google.colab.output.renderOutput(dataTable, element);\n",
              "        const docLink = document.createElement('div');\n",
              "        docLink.innerHTML = docLinkHtml;\n",
              "        element.appendChild(docLink);\n",
              "      }\n",
              "    </script>\n",
              "  </div>\n",
              "\n",
              "\n",
              "<div id=\"df-ee93f77f-1df3-4af3-ac93-524f7d4dd409\">\n",
              "  <button class=\"colab-df-quickchart\" onclick=\"quickchart('df-ee93f77f-1df3-4af3-ac93-524f7d4dd409')\"\n",
              "            title=\"Suggest charts.\"\n",
              "            style=\"display:none;\">\n",
              "\n",
              "<svg xmlns=\"http://www.w3.org/2000/svg\" height=\"24px\"viewBox=\"0 0 24 24\"\n",
              "     width=\"24px\">\n",
              "    <g>\n",
              "        <path d=\"M19 3H5c-1.1 0-2 .9-2 2v14c0 1.1.9 2 2 2h14c1.1 0 2-.9 2-2V5c0-1.1-.9-2-2-2zM9 17H7v-7h2v7zm4 0h-2V7h2v10zm4 0h-2v-4h2v4z\"/>\n",
              "    </g>\n",
              "</svg>\n",
              "  </button>\n",
              "\n",
              "<style>\n",
              "  .colab-df-quickchart {\n",
              "    background-color: #E8F0FE;\n",
              "    border: none;\n",
              "    border-radius: 50%;\n",
              "    cursor: pointer;\n",
              "    display: none;\n",
              "    fill: #1967D2;\n",
              "    height: 32px;\n",
              "    padding: 0 0 0 0;\n",
              "    width: 32px;\n",
              "  }\n",
              "\n",
              "  .colab-df-quickchart:hover {\n",
              "    background-color: #E2EBFA;\n",
              "    box-shadow: 0px 1px 2px rgba(60, 64, 67, 0.3), 0px 1px 3px 1px rgba(60, 64, 67, 0.15);\n",
              "    fill: #174EA6;\n",
              "  }\n",
              "\n",
              "  [theme=dark] .colab-df-quickchart {\n",
              "    background-color: #3B4455;\n",
              "    fill: #D2E3FC;\n",
              "  }\n",
              "\n",
              "  [theme=dark] .colab-df-quickchart:hover {\n",
              "    background-color: #434B5C;\n",
              "    box-shadow: 0px 1px 3px 1px rgba(0, 0, 0, 0.15);\n",
              "    filter: drop-shadow(0px 1px 2px rgba(0, 0, 0, 0.3));\n",
              "    fill: #FFFFFF;\n",
              "  }\n",
              "</style>\n",
              "\n",
              "  <script>\n",
              "    async function quickchart(key) {\n",
              "      const charts = await google.colab.kernel.invokeFunction(\n",
              "          'suggestCharts', [key], {});\n",
              "    }\n",
              "    (() => {\n",
              "      let quickchartButtonEl =\n",
              "        document.querySelector('#df-ee93f77f-1df3-4af3-ac93-524f7d4dd409 button');\n",
              "      quickchartButtonEl.style.display =\n",
              "        google.colab.kernel.accessAllowed ? 'block' : 'none';\n",
              "    })();\n",
              "  </script>\n",
              "</div>\n",
              "    </div>\n",
              "  </div>\n"
            ],
            "text/plain": [
              "           a  beautiful  big  children  garden  in  inside  is  play  they\n",
              "a          0          0    1         0       1   0       0   0     0     0\n",
              "beautiful  0          0    0         0       1   0       0   0     0     0\n",
              "big        0          0    0         0       1   0       0   0     0     0\n",
              "children   0          0    0         0       0   0       0   0     1     0\n",
              "garden     0          0    0         1       0   0       0   0     0     1\n",
              "in         1          0    0         0       0   0       0   0     0     0\n",
              "inside     0          1    0         0       0   0       0   0     0     0\n",
              "is         1          0    0         0       0   0       0   0     0     0\n",
              "play       0          0    0         0       0   1       1   0     0     0\n",
              "there      0          0    0         0       0   0       0   1     0     0\n",
              "they       0          0    0         0       0   0       0   0     1     0"
            ]
          },
          "metadata": {},
          "output_type": "display_data"
        }
      ],
      "source": [
        "def create_bigram_table(bigrams):\n",
        "    table = defaultdict(lambda: defaultdict(int))\n",
        "    for bigram in bigrams:\n",
        "        if len(bigram) == 2:  # Check if the bigram has exactly two elements\n",
        "            prev_word, curr_word = bigram\n",
        "            table[prev_word][curr_word] += 1\n",
        "        else:\n",
        "            print(f\"Ignored invalid bigram: {bigram}\")\n",
        "\n",
        "    rows = sorted(table.keys())\n",
        "    columns = sorted({word for words in table.values() for word in words})\n",
        "    data = [[table[prev_word][curr_word] for curr_word in columns] for prev_word in rows]\n",
        "\n",
        "    df = pd.DataFrame(data, index=rows, columns=columns)\n",
        "    return df\n",
        "\n",
        "bigram_table_df = create_bigram_table(bigrams)\n",
        "display(bigram_table_df)"
      ]
    },
    {
      "cell_type": "code",
      "execution_count": 91,
      "metadata": {
        "id": "jyZdXc0i9DTZ"
      },
      "outputs": [],
      "source": [
        "def calculate(sentence, bigram_df):\n",
        "    words = sentence.split()\n",
        "    probability = 1.0\n",
        "\n",
        "    for i in range(len(words) - 1):\n",
        "        prev_word = words[i]\n",
        "        curr_word = words[i + 1]\n",
        "\n",
        "        # Check if both prev_word and curr_word are in the index of the bigram DataFrame\n",
        "        if prev_word in bigram_df.index and curr_word in bigram_df.columns:\n",
        "            bigram_count = bigram_df.loc[prev_word, curr_word]\n",
        "            prev_word_count = sum(bigram_df.loc[prev_word])\n",
        "            bigram_probability = bigram_count / prev_word_count\n",
        "            probability *= bigram_probability\n",
        "        else:\n",
        "            probability = 0.0\n",
        "            break\n",
        "\n",
        "    return probability\n"
      ]
    },
    {
      "cell_type": "code",
      "execution_count": 92,
      "metadata": {
        "id": "CWxQmGNT9OuM"
      },
      "outputs": [],
      "source": [
        "import math"
      ]
    },
    {
      "cell_type": "code",
      "execution_count": 93,
      "metadata": {
        "id": "mtoWoLNC9POc"
      },
      "outputs": [],
      "source": [
        "sentence=\"they play in a big garden\""
      ]
    },
    {
      "cell_type": "code",
      "execution_count": 94,
      "metadata": {
        "colab": {
          "base_uri": "https://localhost:8080/",
          "height": 0
        },
        "id": "sQS4dlTt9yXg",
        "outputId": "fc1c537c-3c88-4907-e357-9230eb0a758d"
      },
      "outputs": [
        {
          "name": "stdout",
          "output_type": "stream",
          "text": [
            "Probability of 'they play in a big garden': 0.250000\n"
          ]
        }
      ],
      "source": [
        "sentence_prob = calculate(sentence, bigram_table_df)\n",
        "print(f\"Probability of '{sentence}': {sentence_prob:.6f}\")"
      ]
    },
    {
      "cell_type": "code",
      "execution_count": 95,
      "metadata": {
        "id": "qbJla9dR_x2-"
      },
      "outputs": [],
      "source": [
        "def calculate_perplexity(sentence_probability, sentence_length):\n",
        "    return 1 / (sentence_probability ** (1 / sentence_length))"
      ]
    },
    {
      "cell_type": "code",
      "execution_count": 96,
      "metadata": {
        "colab": {
          "base_uri": "https://localhost:8080/",
          "height": 0
        },
        "id": "4Ow9XDrQ90No",
        "outputId": "300c98a1-822c-4456-832e-9714ec2e70db"
      },
      "outputs": [
        {
          "name": "stdout",
          "output_type": "stream",
          "text": [
            "Perplexity:  1.0570180405613805\n"
          ]
        }
      ],
      "source": [
        "N = len(sentence)\n",
        "preplexity = calculate_perplexity(sentence_prob,N)\n",
        "print(\"Perplexity: \", preplexity)"
      ]
    }
  ],
  "metadata": {
    "colab": {
      "provenance": []
    },
    "kernelspec": {
      "display_name": "Python 3",
      "name": "python3"
    },
    "language_info": {
      "name": "python"
    }
  },
  "nbformat": 4,
  "nbformat_minor": 0
}
