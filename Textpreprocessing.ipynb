{
  "cells": [
    {
      "cell_type": "markdown",
      "metadata": {
        "id": "cAa_IM4Yi7Rv"
      },
      "source": [
        "# without using NLTK"
      ]
    },
    {
      "cell_type": "code",
      "execution_count": null,
      "metadata": {
        "id": "yOCWeLbLMkDj"
      },
      "outputs": [],
      "source": [
        "\"Various text preprocessing techniques for any given text.\""
      ]
    },
    {
      "cell_type": "code",
      "execution_count": null,
      "metadata": {
        "id": "HSzbkc7_WoxM"
      },
      "outputs": [],
      "source": [
        "text=\"Was the article edited well, or does it appear sloppy or hastily produced? and Does this article provide a complete or comprehensive description of the topic? ,200 the sorts of questions one might expect to be posed by an earnest college professor.\""
      ]
    },
    {
      "cell_type": "code",
      "execution_count": null,
      "metadata": {
        "colab": {
          "base_uri": "https://localhost:8080/",
          "height": 54
        },
        "id": "AI0i5E4nYgh4",
        "outputId": "3ac40eda-036e-4f8c-e4a6-8aed87ef2ea4"
      },
      "outputs": [
        {
          "data": {
            "application/vnd.google.colaboratory.intrinsic+json": {
              "type": "string"
            },
            "text/plain": [
              "'Was the article edited well, or does it appear sloppy or hastily produced? and Does this article provide a complete or comprehensive description of the topic? ,200 the sorts of questions one might expect to be posed by an earnest college professor.'"
            ]
          },
          "execution_count": 52,
          "metadata": {},
          "output_type": "execute_result"
        }
      ],
      "source": [
        "text"
      ]
    },
    {
      "cell_type": "markdown",
      "metadata": {
        "id": "zpje12TqjDr-"
      },
      "source": [
        "##### Converting text into Lower case"
      ]
    },
    {
      "cell_type": "code",
      "execution_count": null,
      "metadata": {
        "id": "xvPVnL5DYnE7"
      },
      "outputs": [],
      "source": [
        "text=text.lower()"
      ]
    },
    {
      "cell_type": "code",
      "execution_count": null,
      "metadata": {
        "colab": {
          "base_uri": "https://localhost:8080/"
        },
        "id": "lwETtHxsfPC4",
        "outputId": "6e5dc220-90dc-4296-c65c-5188f90842c9"
      },
      "outputs": [
        {
          "name": "stdout",
          "output_type": "stream",
          "text": [
            "was the article edited well, or does it appear sloppy or hastily produced? and does this article provide a complete or comprehensive description of the topic? ,200 the sorts of questions one might expect to be posed by an earnest college professor.\n"
          ]
        }
      ],
      "source": [
        "print(text)"
      ]
    },
    {
      "cell_type": "markdown",
      "metadata": {
        "id": "gz-IRTDVjHmw"
      },
      "source": [
        "##### Removing Number"
      ]
    },
    {
      "cell_type": "code",
      "execution_count": null,
      "metadata": {
        "id": "azqRQasMYq02"
      },
      "outputs": [],
      "source": [
        "removed_num_text=\"\""
      ]
    },
    {
      "cell_type": "code",
      "execution_count": null,
      "metadata": {
        "id": "qaQfTzvIZD8p"
      },
      "outputs": [],
      "source": [
        "for char in text:\n",
        "  if not char.isdigit():\n",
        "    removed_num_text+=char"
      ]
    },
    {
      "cell_type": "code",
      "execution_count": null,
      "metadata": {
        "colab": {
          "base_uri": "https://localhost:8080/",
          "height": 54
        },
        "id": "JQjMd-dcZaXc",
        "outputId": "fc2a231b-0ed4-4117-a8da-5b0df7909d2f"
      },
      "outputs": [
        {
          "data": {
            "application/vnd.google.colaboratory.intrinsic+json": {
              "type": "string"
            },
            "text/plain": [
              "'was the article edited well, or does it appear sloppy or hastily produced? and does this article provide a complete or comprehensive description of the topic? , the sorts of questions one might expect to be posed by an earnest college professor.'"
            ]
          },
          "execution_count": 57,
          "metadata": {},
          "output_type": "execute_result"
        }
      ],
      "source": [
        "removed_num_text"
      ]
    },
    {
      "cell_type": "markdown",
      "metadata": {
        "id": "oPlLTeh0jRkQ"
      },
      "source": [
        "##### Removing punctuation"
      ]
    },
    {
      "cell_type": "code",
      "execution_count": null,
      "metadata": {
        "id": "I2_LzZYiZc6J"
      },
      "outputs": [],
      "source": [
        "punc = '''!()-[]{};:'\"\\,<>./?@#$%^&*_~'''"
      ]
    },
    {
      "cell_type": "code",
      "execution_count": null,
      "metadata": {
        "id": "UK4kNTU7a7a5"
      },
      "outputs": [],
      "source": [
        "import string"
      ]
    },
    {
      "cell_type": "code",
      "execution_count": null,
      "metadata": {
        "id": "BRN2yIBeaPpT"
      },
      "outputs": [],
      "source": [
        "new_string = removed_num_text.translate(str.maketrans('', '', string.punctuation))"
      ]
    },
    {
      "cell_type": "code",
      "execution_count": null,
      "metadata": {
        "colab": {
          "base_uri": "https://localhost:8080/",
          "height": 54
        },
        "id": "WXKFW3RnagJW",
        "outputId": "73d477c4-6ed8-4f49-991c-04a1ff0d2b73"
      },
      "outputs": [
        {
          "data": {
            "application/vnd.google.colaboratory.intrinsic+json": {
              "type": "string"
            },
            "text/plain": [
              "'was the article edited well or does it appear sloppy or hastily produced and does this article provide a complete or comprehensive description of the topic  the sorts of questions one might expect to be posed by an earnest college professor'"
            ]
          },
          "execution_count": 61,
          "metadata": {},
          "output_type": "execute_result"
        }
      ],
      "source": [
        "new_string"
      ]
    },
    {
      "cell_type": "markdown",
      "metadata": {
        "id": "po3fPy6zj-Qz"
      },
      "source": [
        "##### Removing whitespaces"
      ]
    },
    {
      "cell_type": "code",
      "execution_count": null,
      "metadata": {
        "colab": {
          "base_uri": "https://localhost:8080/"
        },
        "id": "bdIOlpmNkBIX",
        "outputId": "e494ffab-11be-4477-f905-beea3a18e97c"
      },
      "outputs": [
        {
          "name": "stdout",
          "output_type": "stream",
          "text": [
            "was the article edited well or does it appear sloppy or hastily produced and does this article provide a complete or comprehensive description of the topic the sorts of questions one might expect to be posed by an earnest college professor\n"
          ]
        }
      ],
      "source": [
        "words=new_string.split()\n",
        "cleaned_text=\" \".join(words)\n",
        "print(cleaned_text)"
      ]
    },
    {
      "cell_type": "markdown",
      "metadata": {
        "id": "XahrsyhojbGw"
      },
      "source": [
        "##### Word Tokenization"
      ]
    },
    {
      "cell_type": "code",
      "execution_count": null,
      "metadata": {
        "id": "lgoUEyb3ahUE"
      },
      "outputs": [],
      "source": [
        "splited_string=cleaned_text.split(\" \")"
      ]
    },
    {
      "cell_type": "code",
      "execution_count": null,
      "metadata": {
        "colab": {
          "base_uri": "https://localhost:8080/"
        },
        "id": "w5m2KQNTbIp4",
        "outputId": "404e8849-d814-43d6-a1b6-71cbf5e363e7"
      },
      "outputs": [
        {
          "name": "stdout",
          "output_type": "stream",
          "text": [
            "['was', 'the', 'article', 'edited', 'well', 'or', 'does', 'it', 'appear', 'sloppy', 'or', 'hastily', 'produced', 'and', 'does', 'this', 'article', 'provide', 'a', 'complete', 'or', 'comprehensive', 'description', 'of', 'the', 'topic', 'the', 'sorts', 'of', 'questions', 'one', 'might', 'expect', 'to', 'be', 'posed', 'by', 'an', 'earnest', 'college', 'professor']\n"
          ]
        }
      ],
      "source": [
        "print(splited_string)"
      ]
    },
    {
      "cell_type": "markdown",
      "metadata": {
        "id": "tW35nxMakZ-k"
      },
      "source": [
        "##### Sentence Tokenization"
      ]
    },
    {
      "cell_type": "code",
      "execution_count": null,
      "metadata": {
        "colab": {
          "base_uri": "https://localhost:8080/"
        },
        "id": "EppbPvO1by15",
        "outputId": "4e7f18be-9a72-4d5c-e505-fce321f82ac3"
      },
      "outputs": [
        {
          "name": "stdout",
          "output_type": "stream",
          "text": [
            "['was the article edited well, or does it appear sloppy or hastily produced? and does this article provide a complete or comprehensive description of the topic? ,200 the sorts of questions one might expect to be posed by an earnest college professor', '']\n"
          ]
        }
      ],
      "source": [
        "sentence_tokens=text.split(\".\")\n",
        "print(sentence_tokens)\n"
      ]
    },
    {
      "cell_type": "markdown",
      "metadata": {
        "id": "ap8fdN-5vag9"
      },
      "source": [
        "##### Removing Stop words"
      ]
    },
    {
      "cell_type": "code",
      "execution_count": null,
      "metadata": {
        "colab": {
          "base_uri": "https://localhost:8080/"
        },
        "id": "vlAiOqkWvepe",
        "outputId": "b23d7c86-8844-4b20-b27e-fee6b461e17b"
      },
      "outputs": [
        {
          "name": "stdout",
          "output_type": "stream",
          "text": [
            "article edited well appear sloppy hastily produced article provide complete comprehensive description topic sorts questions one might expect posed earnest college professor\n"
          ]
        }
      ],
      "source": [
        "stop_words=['i', 'me', 'my', 'myself', 'we', 'our', 'ours', 'ourselves', 'you', 'your','yours', 'yourself', 'yourselves', 'he', 'him', 'his', 'himself', 'she', 'her','hers', 'herself', 'it', 'its', 'itself', 'they', 'them', 'their', 'theirs','themselves', 'what', 'which', 'who', 'whom', 'this', 'that', 'these', 'those','am', 'is', 'are', 'was', 'were', 'be', 'been', 'being', 'have', 'has', 'had','having', 'do', 'does', 'did', 'doing', 'a', 'an', 'the', 'and', 'but', 'if', 'or', 'because', 'as', 'until', 'while', 'of', 'at', 'by', 'for', 'with', 'about','against', 'between', 'into', 'through', 'during', 'before', 'after', 'above','below', 'to', 'from', 'up', 'down', 'in', 'out', 'on', 'off', 'over', 'under','again', 'further', 'then', 'once', 'here', 'there', 'when', 'where', 'why', 'how', 'all', 'any', 'both', 'each', 'few', 'more', 'most', 'other', 'some', 'such', 'no','nor', 'not', 'only', 'own', 'same', 'so', 'than', 'too', 'very', 's', 't', 'can','will', 'just', 'don', 'should', 'now','im']\n",
        "filtered_word=[word for word in splited_string if word not in stop_words]\n",
        "after_removing_stop_words=\" \".join(filtered_word)\n",
        "print(after_removing_stop_words)"
      ]
    },
    {
      "cell_type": "markdown",
      "metadata": {
        "id": "XrydkwPIxdwT"
      },
      "source": [
        "# With NLTK"
      ]
    },
    {
      "cell_type": "code",
      "execution_count": null,
      "metadata": {
        "colab": {
          "base_uri": "https://localhost:8080/"
        },
        "id": "mpKPnQQUkmSV",
        "outputId": "3fc8233d-eb1f-44c7-9a24-3613013bb82e"
      },
      "outputs": [
        {
          "name": "stderr",
          "output_type": "stream",
          "text": [
            "[nltk_data] Downloading package punkt to /root/nltk_data...\n",
            "[nltk_data]   Package punkt is already up-to-date!\n",
            "[nltk_data] Downloading package stopwords to /root/nltk_data...\n",
            "[nltk_data]   Package stopwords is already up-to-date!\n"
          ]
        },
        {
          "data": {
            "text/plain": [
              "True"
            ]
          },
          "execution_count": 67,
          "metadata": {},
          "output_type": "execute_result"
        }
      ],
      "source": [
        "import nltk\n",
        "nltk.download('punkt')\n",
        "nltk.download('stopwords')"
      ]
    },
    {
      "cell_type": "code",
      "execution_count": null,
      "metadata": {
        "id": "gjF6KX2clZd5"
      },
      "outputs": [],
      "source": [
        "text_2=\" “Was the article edited well, or does it appear sloppy or hastily produced?” and “Does this article provide a complete or comprehensive description of the topic?,” the sorts of questions one might expect to be posed by an earnest college professor.\""
      ]
    },
    {
      "cell_type": "code",
      "execution_count": null,
      "metadata": {
        "id": "DPuSN3utlk_a"
      },
      "outputs": [],
      "source": [
        "text_2=text_2.lower()"
      ]
    },
    {
      "cell_type": "markdown",
      "metadata": {
        "id": "rC0b8kmQ0CXZ"
      },
      "source": [
        "##### Remove Numbers"
      ]
    },
    {
      "cell_type": "code",
      "execution_count": null,
      "metadata": {
        "colab": {
          "base_uri": "https://localhost:8080/"
        },
        "id": "J_Q0Pe_ezWXO",
        "outputId": "51ee610e-39dd-445c-8a9a-bb96427cb74a"
      },
      "outputs": [
        {
          "name": "stdout",
          "output_type": "stream",
          "text": [
            " “was the article edited well, or does it appear sloppy or hastily produced?” and “does this article provide a complete or comprehensive description of the topic?,” the sorts of questions one might expect to be posed by an earnest college professor.\n"
          ]
        }
      ],
      "source": [
        "import re\n",
        "clean_text = re.sub(r'\\d+', '', text_2)\n",
        "print(clean_text)"
      ]
    },
    {
      "cell_type": "markdown",
      "metadata": {
        "id": "z9s5M8z20T7t"
      },
      "source": [
        "##### Remove Punctuation"
      ]
    },
    {
      "cell_type": "code",
      "execution_count": null,
      "metadata": {
        "colab": {
          "base_uri": "https://localhost:8080/"
        },
        "id": "JdgCEpV80ZXK",
        "outputId": "5ba780b5-de16-4665-996e-3159b98ca925"
      },
      "outputs": [
        {
          "name": "stdout",
          "output_type": "stream",
          "text": [
            " was the article edited well or does it appear sloppy or hastily produced and does this article provide a complete or comprehensive description of the topic the sorts of questions one might expect to be posed by an earnest college professor\n"
          ]
        }
      ],
      "source": [
        "cleaned_text=re.sub(r'[^\\w\\s]','',clean_text)\n",
        "print(cleaned_text)"
      ]
    },
    {
      "cell_type": "markdown",
      "metadata": {
        "id": "9NnMcw0j2s8k"
      },
      "source": [
        "#### Remove extra white spaces"
      ]
    },
    {
      "cell_type": "code",
      "execution_count": null,
      "metadata": {
        "colab": {
          "base_uri": "https://localhost:8080/"
        },
        "id": "hMfpR0s12vxH",
        "outputId": "9510b686-09ba-48f3-ce40-44d505c66da5"
      },
      "outputs": [
        {
          "name": "stdout",
          "output_type": "stream",
          "text": [
            " was the article edited well or does it appear sloppy or hastily produced and does this article provide a complete or comprehensive description of the topic the sorts of questions one might expect to be posed by an earnest college professor\n"
          ]
        }
      ],
      "source": [
        "very_clean_text = re.sub(r'\\s+', ' ',cleaned_text)\n",
        "print(very_clean_text)"
      ]
    },
    {
      "cell_type": "markdown",
      "metadata": {
        "id": "T0SRF3clybbk"
      },
      "source": [
        "##### Word Tokenization"
      ]
    },
    {
      "cell_type": "code",
      "execution_count": null,
      "metadata": {
        "colab": {
          "base_uri": "https://localhost:8080/"
        },
        "id": "BTeNpPV_ln8S",
        "outputId": "900ed65b-6293-4d42-a309-15874754c5a6"
      },
      "outputs": [
        {
          "name": "stdout",
          "output_type": "stream",
          "text": [
            "['was', 'the', 'article', 'edited', 'well', 'or', 'does', 'it', 'appear', 'sloppy', 'or', 'hastily', 'produced', 'and', 'does', 'this', 'article', 'provide', 'a', 'complete', 'or', 'comprehensive', 'description', 'of', 'the', 'topic', 'the', 'sorts', 'of', 'questions', 'one', 'might', 'expect', 'to', 'be', 'posed', 'by', 'an', 'earnest', 'college', 'professor']\n"
          ]
        }
      ],
      "source": [
        "from nltk.tokenize import word_tokenize\n",
        "word_tokens=word_tokenize(very_clean_text)\n",
        "print(word_tokens)"
      ]
    },
    {
      "cell_type": "markdown",
      "metadata": {
        "id": "uOc5E0Nh3S1w"
      },
      "source": [
        "##### Sentence Tokenization"
      ]
    },
    {
      "cell_type": "code",
      "execution_count": null,
      "metadata": {
        "colab": {
          "base_uri": "https://localhost:8080/"
        },
        "id": "S5j4TsRLypDA",
        "outputId": "8018c910-2792-4ac1-8b00-735eef481d7f"
      },
      "outputs": [
        {
          "name": "stdout",
          "output_type": "stream",
          "text": [
            "[' “was the article edited well, or does it appear sloppy or hastily produced?” and “does this article provide a complete or comprehensive description of the topic?,” the sorts of questions one might expect to be posed by an earnest college professor.']\n"
          ]
        }
      ],
      "source": [
        "from nltk.tokenize import sent_tokenize\n",
        "sentences=sent_tokenize(text_2)\n",
        "print(sentences)"
      ]
    },
    {
      "cell_type": "markdown",
      "metadata": {
        "id": "SPcTLZYT3mvc"
      },
      "source": [
        "##### Stop Word remove"
      ]
    },
    {
      "cell_type": "code",
      "execution_count": null,
      "metadata": {
        "colab": {
          "base_uri": "https://localhost:8080/"
        },
        "id": "zetaIuSl3bA_",
        "outputId": "c5d4bbfa-304a-4cf6-8a8c-c089059f1ac2"
      },
      "outputs": [
        {
          "name": "stdout",
          "output_type": "stream",
          "text": [
            "article edited well appear sloppy hastily produced article provide complete comprehensive description topic sorts questions one might expect posed earnest college professor\n"
          ]
        }
      ],
      "source": [
        "from nltk.corpus import stopwords\n",
        "\n",
        "stop_words = set(stopwords.words('english'))\n",
        "filtered_words = [word for word in word_tokens if word not in stop_words]\n",
        "filtered_sentence = ' '.join(filtered_words)\n",
        "print(filtered_sentence)"
      ]
    }
  ],
  "metadata": {
    "colab": {
      "provenance": []
    },
    "kernelspec": {
      "display_name": "Python 3",
      "name": "python3"
    },
    "language_info": {
      "name": "python"
    }
  },
  "nbformat": 4,
  "nbformat_minor": 0
}
