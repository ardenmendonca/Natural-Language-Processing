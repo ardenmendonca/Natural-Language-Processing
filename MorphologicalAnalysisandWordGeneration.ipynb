{
  "cells": [
    {
      "cell_type": "code",
      "execution_count": null,
      "metadata": {},
      "outputs": [],
      "source": [
        "'''\n",
        "Performing morphological analysis and word generation for any given text.\n",
        "\n",
        "'''"
      ]
    },
    {
      "cell_type": "code",
      "execution_count": null,
      "metadata": {
        "id": "wOuX-c5cYY92"
      },
      "outputs": [],
      "source": [
        "import pandas as pd"
      ]
    },
    {
      "cell_type": "code",
      "execution_count": null,
      "metadata": {
        "id": "aUl0bFG2peIc"
      },
      "outputs": [],
      "source": [
        "hindi_words_table = {\n",
        "\"नमस्ते\": {\n",
        "\"root\": \"नमस्ते\",\n",
        "\"category\": \"noun\",\n",
        "\"gender\": \"-\",\n",
        "\"number\": \"singular\",\n",
        "\"tense\": \"present\",\n",
        "\"person\": \"-\"\n",
        "},\n",
        "\"खुशी\": {\n",
        "\"root\": \"खुश\",\n",
        "\"category\": \"noun\",\n",
        "\"gender\": \"female\",\n",
        "\"number\": \"singular\",\n",
        "\"tense\": \"-\",\n",
        "\"person\": \"-\"\n",
        "},\n",
        "\"प्यार\": {\n",
        "\"root\": \"प्यार\",\n",
        "\"category\": \"noun\",\n",
        "\"gender\": \"male\",\n",
        "\"number\": \"singular\",\n",
        "\"tense\": \"-\",\n",
        "\"person\": \"-\"\n",
        "},\n",
        "\"सुनो\": {\n",
        "\"root\": \"सुन\",\n",
        "\"category\": \"verb\",\n",
        "\"gender\": \"-\",\n",
        "\"number\": \"singular\",\n",
        "\"tense\": \"-\",\n",
        "\"person\": \"-\"\n",
        "},\n",
        "\"खाना\": {\n",
        "\"root\": \"खाना\",\n",
        "\"category\": \"verb\",\n",
        "\"gender\": \"-\",\n",
        "\"number\": \"singular\",\n",
        "\"tense\": \"-\",\n",
        "\"person\": \"-\"\n",
        "}\n",
        "}\n"
      ]
    },
    {
      "cell_type": "code",
      "execution_count": null,
      "metadata": {
        "id": "75QMn-xVttyQ"
      },
      "outputs": [],
      "source": [
        "english_words_table = {\n",
        "\"hello\": {\n",
        "\"root\": \"hello\",\n",
        "\"category\": \"verb\",\n",
        "\"gender\": \"-\",\n",
        "\"number\": \"singular\",\n",
        "\"tense\": \"past\",\n",
        "\"person\": \"-\"\n",
        "},\n",
        "\"happy\": {\n",
        "\"root\": \"happy\",\n",
        "\"category\": \"adjective\",\n",
        "\"gender\": \"-\",\n",
        "\"number\": \"singular\",\n",
        "\"tense\": \"-\",\n",
        "\"person\": \"-\"\n",
        "},\n",
        "\"love\": {\n",
        "\"root\": \"love\",\n",
        "\"category\": \"noun\",\n",
        "\"gender\": \"-\",\n",
        "\"number\": \"-\",\n",
        "\"tense\": \"-\",\n",
        "\"person\": \"-\"\n",
        "},\n",
        "\"listen\": {\n",
        "\"root\": \"listen\",\n",
        "\"category\": \"verb\",\n",
        "\"gender\": \"-\",\n",
        "\"number\": \"singluar\",\n",
        "\"tense\": \"present\",\n",
        "\"person\": \"-\"\n",
        "},\n",
        "\"food\": {\n",
        "\"root\": \"food\",\n",
        "\"category\": \"noun\",\n",
        "\"gender\": \"-\",\n",
        "\"number\": \"singular\",\n",
        "\"tense\": \"-\",\n",
        "\"person\": \"-\"\n",
        "}\n",
        "}\n"
      ]
    },
    {
      "cell_type": "code",
      "execution_count": null,
      "metadata": {
        "id": "K8vHfkn4Ygwv"
      },
      "outputs": [],
      "source": [
        "def print_morphological_table(words_table):\n",
        "  print(f\"| {'Word':<10} | {'Root':<10} | {'Category':<10} | {'Gender':<10} | {'Number':<10} | {'Tense':<10} | {'Person':<10} |\")\n",
        "  print(\"-\" * 97)\n",
        "  for word, analysis in words_table.items():\n",
        "    print(f\"| {word:<10} | {analysis['root']:<10} | {analysis['category']:<10} | {analysis['gender']:<10} | {analysis['number']:<10} | {analysis['tense']:<10} |{analysis['person']:<10}\")\n"
      ]
    },
    {
      "cell_type": "code",
      "execution_count": null,
      "metadata": {
        "colab": {
          "base_uri": "https://localhost:8080/"
        },
        "id": "LhPP86RkwSPj",
        "outputId": "555274cb-5d60-495b-f7ce-d4ddb02aaaee"
      },
      "outputs": [
        {
          "name": "stdout",
          "output_type": "stream",
          "text": [
            "| Word       | Root       | Category   | Gender     | Number     | Tense      | Person     |\n",
            "-------------------------------------------------------------------------------------------------\n",
            "| नमस्ते     | नमस्ते     | noun       | -          | singular   | present    |-         \n",
            "| खुशी       | खुश        | noun       | female     | singular   | -          |-         \n",
            "| प्यार      | प्यार      | noun       | male       | singular   | -          |-         \n",
            "| सुनो       | सुन        | verb       | -          | singular   | -          |-         \n",
            "| खाना       | खाना       | verb       | -          | singular   | -          |-         \n",
            "----------------------------------------------------------------------------------------------------\n",
            "| Word       | Root       | Category   | Gender     | Number     | Tense      | Person     |\n",
            "-------------------------------------------------------------------------------------------------\n",
            "| Hello      | Hello      | verb       | -          | singular   | past       |-         \n",
            "| happy      | happy      | adjective  | -          | singular   | -          |-         \n",
            "| love       | love       | noun       | -          | -          | -          |-         \n",
            "| listen     | listen     | verb       | -          | singluar   | present    |-         \n",
            "| food       | food       | noun       | -          | singular   | -          |-         \n"
          ]
        }
      ],
      "source": [
        "print_morphological_table(hindi_words_table)\n",
        "print(\"----------------------------------------------------------------------------------------------------\")\n",
        "print_morphological_table(english_words_table)"
      ]
    },
    {
      "cell_type": "code",
      "execution_count": null,
      "metadata": {
        "id": "Xr6LybhOYmXx"
      },
      "outputs": [],
      "source": [
        "def print_morphological_info(word, analysis):\n",
        "  print(\"Morphological Information:\")\n",
        "  print(f\"Word: {word}\")\n",
        "  print(f\"Root: {analysis['root']}\")\n",
        "  print(f\"Category: {analysis['category']}\")\n",
        "  print(f\"Gender: {analysis['gender']}\")\n",
        "  print(f\"Number: {analysis['number']}\")\n",
        "  print(f\"Tense: {analysis['tense']}\")\n",
        "  print(f\"Person: {analysis['person']}\")\n"
      ]
    },
    {
      "cell_type": "code",
      "execution_count": null,
      "metadata": {
        "colab": {
          "base_uri": "https://localhost:8080/"
        },
        "id": "NufkdEgnYoMQ",
        "outputId": "0cb6313a-ee17-4f15-a1a8-f99230828fc9"
      },
      "outputs": [
        {
          "name": "stdout",
          "output_type": "stream",
          "text": [
            "Enter a word: food\n"
          ]
        }
      ],
      "source": [
        "word = input(\"Enter a word: \").lower()"
      ]
    },
    {
      "cell_type": "code",
      "execution_count": null,
      "metadata": {
        "colab": {
          "base_uri": "https://localhost:8080/"
        },
        "id": "Dzu0MuhgYptR",
        "outputId": "cf2934da-1a81-48c7-80a7-dcee4d371d01"
      },
      "outputs": [
        {
          "name": "stdout",
          "output_type": "stream",
          "text": [
            "Morphological Information:\n",
            "Word: food\n",
            "Root: food\n",
            "Category: noun\n",
            "Gender: -\n",
            "Number: singular\n",
            "Tense: -\n",
            "Person: -\n"
          ]
        }
      ],
      "source": [
        "if word in hindi_words_table:\n",
        "  print_morphological_info(word, hindi_words_table[word])\n",
        "elif word in english_words_table:\n",
        "  print_morphological_info(word, english_words_table[word])\n",
        "else:\n",
        "  print(\"Word not found in the tables.\")"
      ]
    },
    {
      "cell_type": "code",
      "execution_count": null,
      "metadata": {
        "id": "HlPg9TvyZtmR"
      },
      "outputs": [],
      "source": [
        "def findmorphology(rootword, tense, words_table):\n",
        "  for word, analysis in words_table.items():\n",
        "    if analysis[\"root\"] == rootword and analysis[\"tense\"] == tense :\n",
        "      print(f\"The word is: {word}\")\n",
        "      return\n",
        "  print(\"No matching word were found.\")"
      ]
    },
    {
      "cell_type": "code",
      "execution_count": null,
      "metadata": {
        "colab": {
          "base_uri": "https://localhost:8080/"
        },
        "id": "zCyGOVsNZvSO",
        "outputId": "81f44730-20d0-463b-9932-3be260260565"
      },
      "outputs": [
        {
          "name": "stdout",
          "output_type": "stream",
          "text": [
            "Enter the root word: listen\n",
            "Enter the tense: present\n",
            "The word is: listen\n"
          ]
        }
      ],
      "source": [
        "rootword = input(\"Enter the root word: \")\n",
        "tense = input(\"Enter the tense: \")\n",
        "findmorphology(rootword, tense, english_words_table)"
      ]
    },
    {
      "cell_type": "code",
      "execution_count": null,
      "metadata": {
        "id": "ZYrFtcXGaQwf"
      },
      "outputs": [],
      "source": [
        "import spacy\n",
        "import inflect\n",
        "def display_morphological_analysis(word):\n",
        "  nlp = spacy.load(\"en_core_web_sm\")\n",
        "  doc = nlp(word)\n",
        "  if doc:\n",
        "    print(f\"Morphological Analysis for '{word}':\")\n",
        "    for token in doc:\n",
        "      print(f\"Text: {token.text}, Lemma: {token.lemma_}, POS: {token.pos_}, Tag: {token.tag_}\")"
      ]
    },
    {
      "cell_type": "code",
      "execution_count": null,
      "metadata": {
        "id": "a5EU_HZXyOFD"
      },
      "outputs": [],
      "source": [
        "def generate_word_from_morphology(root):\n",
        "  p = inflect.engine()\n",
        "  return p.plural(root) # Generate plural form for English nouns"
      ]
    },
    {
      "cell_type": "code",
      "execution_count": null,
      "metadata": {
        "id": "0xZ_PRwfyQyL"
      },
      "outputs": [],
      "source": [
        "def main():\n",
        "  word = input(\"Enter a word: \")\n",
        "  display_morphological_analysis(word)\n",
        "  generated_word = generate_word_from_morphology(word)\n",
        "  if generated_word:\n",
        "    print(f\"Generated word: {generated_word}\")"
      ]
    },
    {
      "cell_type": "code",
      "execution_count": null,
      "metadata": {
        "colab": {
          "base_uri": "https://localhost:8080/"
        },
        "id": "AcIldVkKyVye",
        "outputId": "d512f140-d3be-4403-bc66-cc7090ead206"
      },
      "outputs": [
        {
          "name": "stdout",
          "output_type": "stream",
          "text": [
            "Enter a word: नमस्ते\n",
            "Morphological Analysis for 'नमस्ते':\n",
            "Text: नमस्ते, Lemma: नमस्ते, POS: X, Tag: ADD\n",
            "Generated word: नमस्तेS\n"
          ]
        }
      ],
      "source": [
        "if __name__ == \"__main__\":\n",
        "  main()\n"
      ]
    },
    {
      "cell_type": "code",
      "execution_count": null,
      "metadata": {
        "id": "RKsN_p47ybmo"
      },
      "outputs": [],
      "source": [
        "def analyze_and_generate_word(word, language):\n",
        "  if language == \"english\":\n",
        "    nlp = spacy.load(\"en_core_web_sm\")\n",
        "  elif language == \"hindi\":\n",
        "    nlp = spacy.load(\"xx_ent_wiki_sm\")\n",
        "  else:\n",
        "    print(\"Invalid language.\")\n",
        "  doc = nlp(word)\n",
        "  print(\"Morphological Analysis:\")\n",
        "  for token in doc:\n",
        "    print(f\"Text: {token.text}, Lemma: {token.lemma_}, POS: {token.pos_}\")\n",
        "  generated_word = doc[0].lemma_\n",
        "  print(f\"Generated word: {generated_word}\")"
      ]
    },
    {
      "cell_type": "code",
      "execution_count": null,
      "metadata": {
        "id": "xrQ_hKTOzIn4"
      },
      "outputs": [],
      "source": [
        "def main():\n",
        "  word = input(\"Enter a word: \")\n",
        "  language = input(\"Enter language (english/hindi): \")\n",
        "  analyze_and_generate_word(word, language.lower())"
      ]
    },
    {
      "cell_type": "code",
      "execution_count": null,
      "metadata": {
        "colab": {
          "base_uri": "https://localhost:8080/"
        },
        "id": "NgmLsy06zP7p",
        "outputId": "dba9ef79-fd53-440a-a8ea-9ceaa9f35e7c"
      },
      "outputs": [
        {
          "name": "stdout",
          "output_type": "stream",
          "text": [
            "Enter a word: food\n",
            "Enter language (english/hindi): english\n",
            "Morphological Analysis:\n",
            "Text: food, Lemma: food, POS: NOUN\n",
            "Generated word: food\n"
          ]
        }
      ],
      "source": [
        "if __name__ == \"__main__\":\n",
        "  main()\n"
      ]
    },
    {
      "cell_type": "code",
      "execution_count": null,
      "metadata": {
        "id": "hW4GqTjFzvaQ"
      },
      "outputs": [],
      "source": []
    }
  ],
  "metadata": {
    "colab": {
      "provenance": []
    },
    "kernelspec": {
      "display_name": "Python 3",
      "name": "python3"
    },
    "language_info": {
      "name": "python"
    }
  },
  "nbformat": 4,
  "nbformat_minor": 0
}
